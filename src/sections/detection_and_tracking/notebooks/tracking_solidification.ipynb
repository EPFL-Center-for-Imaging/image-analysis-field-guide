{
 "cells": [
  {
   "cell_type": "markdown",
   "metadata": {},
   "source": [
    "\n",
    "# Track solidification of a metallic alloy\n",
    "\n",
    "In this example, we identify and track the solid-liquid (S-L) interface in a\n",
    "nickel-based alloy undergoing solidification. Tracking the solidification over\n",
    "time enables the calculatation of the solidification velocity. This is\n",
    "important to characterize the solidified structure of the sample and will be\n",
    "used to inform research into additive manufacturing of metals. The image\n",
    "sequence was obtained by the Center for Advanced Non-Ferrous Structural Alloys\n",
    "(CANFSA) using synchrotron x-radiography at the Advanced Photon Source (APS)\n",
    "at Argonne National Laboratory (ANL). This analysis was first presented at\n",
    "a conference [1]_.\n",
    "\n",
    ".. [1] Corvellec M. and Becker C. G. (2021, May 17-18)\n",
    "       \"Quantifying solidification of metallic alloys with scikit-image\"\n",
    "       [Conference presentation]. BIDS ImageXD 2021 (Image Analysis Across\n",
    "       Domains). Virtual participation.\n",
    "       https://www.youtube.com/watch?v=cB1HTgmWTd8\n",
    "\n",
    "```{admonition} Acknowledgements\n",
    "This notebook was adapted from [Scikit-image's gallery of examples](https://scikit-image.org/docs/stable/auto_examples/). We kindly acknowledge them for sharing their material with us!\n",
    "```\n"
   ]
  },
  {
   "cell_type": "code",
   "execution_count": null,
   "metadata": {},
   "outputs": [],
   "source": [
    "import matplotlib.pyplot as plt\n",
    "import numpy as np\n",
    "import pandas as pd\n",
    "import plotly.express as px\n",
    "import plotly.io\n",
    "\n",
    "from skimage import filters, measure, restoration\n",
    "from skimage.data import nickel_solidification\n",
    "\n",
    "image_sequence = nickel_solidification()\n",
    "\n",
    "y0, y1, x0, x1 = 0, 180, 100, 330\n",
    "\n",
    "image_sequence = image_sequence[:, y0:y1, x0:x1]\n",
    "\n",
    "print(f'shape: {image_sequence.shape}')"
   ]
  },
  {
   "cell_type": "markdown",
   "metadata": {},
   "source": [
    "The dataset is a 2D image stack with 11 frames (time points).\n",
    "We visualize and analyze it in a workflow where the first image processing\n",
    "steps are performed on the entire three-dimensional dataset (i.e., across\n",
    "space and time),\n",
    "such that the removal of localized, transient noise is favored as\n",
    "opposed to that of physical features (e.g., bubbles, splatters, etc.), which\n",
    "exist in roughly the same position from one frame to the next.\n",
    "\n"
   ]
  },
  {
   "cell_type": "code",
   "execution_count": null,
   "metadata": {},
   "outputs": [],
   "source": [
    "fig = px.imshow(\n",
    "    image_sequence,\n",
    "    animation_frame=0,\n",
    "    binary_string=True,\n",
    "    labels={'animation_frame': 'time point'}\n",
    ")\n",
    "plotly.io.show(fig)"
   ]
  },
  {
   "cell_type": "markdown",
   "metadata": {},
   "source": [
    "## Compute image deltas\n",
    "Let us first apply a Gaussian low-pass filter in order to smooth\n",
    "the images and reduce noise.\n",
    "Next, we compute the image deltas, i.e., the sequence of differences\n",
    "between two consecutive frames. To do this, we subtract the image sequence\n",
    "ending at the second-to-last frame from the image sequence starting\n",
    "at the second frame.\n",
    "\n"
   ]
  },
  {
   "cell_type": "code",
   "execution_count": null,
   "metadata": {},
   "outputs": [],
   "source": [
    "smoothed = filters.gaussian(image_sequence)\n",
    "image_deltas = smoothed[1:, :, :] - smoothed[:-1, :, :]\n",
    "\n",
    "fig = px.imshow(\n",
    "    image_deltas,\n",
    "    animation_frame=0,\n",
    "    binary_string=True,\n",
    "    labels={'animation_frame': 'time point'}\n",
    ")\n",
    "plotly.io.show(fig)"
   ]
  },
  {
   "cell_type": "markdown",
   "metadata": {},
   "source": [
    "## Clip lowest and highest intensities\n",
    "We now calculate the 5th and 95th percentile intensities of ``image_deltas``:\n",
    "We want to clip the intensities which lie below the 5th percentile\n",
    "intensity and above the 95th percentile intensity, while also rescaling\n",
    "the intensity values to [0, 1].\n",
    "\n"
   ]
  },
  {
   "cell_type": "code",
   "execution_count": null,
   "metadata": {},
   "outputs": [],
   "source": [
    "p_low, p_high = np.percentile(image_deltas, [5, 95])\n",
    "clipped = image_deltas - p_low\n",
    "clipped[clipped < 0.0] = 0.0\n",
    "clipped = clipped / p_high\n",
    "clipped[clipped > 1.0] = 1.0\n",
    "\n",
    "fig = px.imshow(\n",
    "    clipped,\n",
    "    animation_frame=0,\n",
    "    binary_string=True,\n",
    "    labels={'animation_frame': 'time point'}\n",
    ")\n",
    "plotly.io.show(fig)"
   ]
  },
  {
   "cell_type": "markdown",
   "metadata": {},
   "source": [
    "## Invert and denoise\n",
    "We invert the ``clipped`` images so the regions of highest intensity\n",
    "will include the region we are interested in tracking (i.e., the\n",
    "S-L interface). Then, we apply a total variation denoising filter to reduce\n",
    "noise beyond the interface.\n",
    "\n"
   ]
  },
  {
   "cell_type": "code",
   "execution_count": null,
   "metadata": {},
   "outputs": [],
   "source": [
    "inverted = 1 - clipped\n",
    "denoised = restoration.denoise_tv_chambolle(inverted, weight=0.15)\n",
    "\n",
    "fig = px.imshow(\n",
    "    denoised,\n",
    "    animation_frame=0,\n",
    "    binary_string=True,\n",
    "    labels={'animation_frame': 'time point'}\n",
    ")\n",
    "plotly.io.show(fig)"
   ]
  },
  {
   "cell_type": "markdown",
   "metadata": {},
   "source": [
    "## Binarize\n",
    "Our next step is to create binary images, splitting the images\n",
    "into foreground and background: We want the S-L interface\n",
    "to be the most prominent feature in the foreground of each binary image,\n",
    "so that it can eventually be separated from the rest of the image.\n",
    "\n",
    "We need\n",
    "a threshold value ``thresh_val`` to create our binary images, ``binarized``.\n",
    "This can be set manually, but we shall use an automated minimum threshold\n",
    "method from the ``filters`` submodule of scikit-image (there are other\n",
    "methods that may work better for different applications).\n",
    "\n"
   ]
  },
  {
   "cell_type": "code",
   "execution_count": null,
   "metadata": {},
   "outputs": [],
   "source": [
    "thresh_val = filters.threshold_minimum(denoised)\n",
    "binarized = denoised > thresh_val\n",
    "\n",
    "fig = px.imshow(\n",
    "    binarized,\n",
    "    animation_frame=0,\n",
    "    binary_string=True,\n",
    "    labels={'animation_frame': 'time point'}\n",
    ")\n",
    "plotly.io.show(fig)"
   ]
  },
  {
   "cell_type": "markdown",
   "metadata": {},
   "source": [
    "## Select largest region\n",
    "In our binary images, the S-L interface appears as the largest region of\n",
    "connected pixels. For this step of the workflow, we will operate on each\n",
    "2D image separately, as opposed to the entire 3D dataset, because we are\n",
    "interested in a single moment in time for each region.\n",
    "\n",
    "We apply :func:`skimage.measure.label()` on the binary images so that each\n",
    "region has its own label. Then, we select the largest region in each image\n",
    "by computing region properties, including the ``area`` property, and\n",
    "sorting by ``area`` values. Function\n",
    ":func:`skimage.measure.regionprops_table()` returns a table of region\n",
    "properties which can be read into a Pandas ``DataFrame``.\n",
    "To begin with, let us consider the first image delta at this stage of the\n",
    "workflow, ``binarized[0, :, :]``.\n",
    "\n"
   ]
  },
  {
   "cell_type": "code",
   "execution_count": null,
   "metadata": {},
   "outputs": [],
   "source": [
    "labeled_0 = measure.label(binarized[0, :, :])\n",
    "props_0 = measure.regionprops_table(\n",
    "        labeled_0, properties=('label', 'area', 'bbox'))\n",
    "props_0_df = pd.DataFrame(props_0)\n",
    "props_0_df = props_0_df.sort_values('area', ascending=False)\n",
    "# Show top five rows\n",
    "props_0_df.head()"
   ]
  },
  {
   "cell_type": "markdown",
   "metadata": {},
   "source": [
    "We can thus select the largest region by matching its label with the one\n",
    "found in the first row of the above (sorted) table. Let us visualize it,\n",
    "along with its bounding box (bbox) in red.\n",
    "\n"
   ]
  },
  {
   "cell_type": "code",
   "execution_count": null,
   "metadata": {},
   "outputs": [],
   "source": [
    "largest_region_0 = labeled_0 == props_0_df.iloc[0]['label']\n",
    "minr, minc, maxr, maxc = (props_0_df.iloc[0][f'bbox-{i}'] for i in range(4))\n",
    "fig = px.imshow(largest_region_0, binary_string=True)\n",
    "fig.add_shape(\n",
    "        type='rect', x0=minc, y0=minr, x1=maxc, y1=maxr, line=dict(color='Red'))\n",
    "plotly.io.show(fig)"
   ]
  },
  {
   "cell_type": "markdown",
   "metadata": {},
   "source": [
    "We can see how the lower bounds of the box align with the bottom of the\n",
    "S-L interface by overlaying the same bounding box onto the 0th raw image.\n",
    "This bounding box was calculated from the image delta between\n",
    "the 0th and 1st images, but the bottom-most region of the box\n",
    "corresponds to the location of the interface earlier\n",
    "in time (0th image) because the interface is moving upward.\n",
    "\n"
   ]
  },
  {
   "cell_type": "code",
   "execution_count": null,
   "metadata": {},
   "outputs": [],
   "source": [
    "fig = px.imshow(image_sequence[0, :, :], binary_string=True)\n",
    "fig.add_shape(\n",
    "        type='rect', x0=minc, y0=minr, x1=maxc, y1=maxr, line=dict(color='Red'))\n",
    "plotly.io.show(fig)"
   ]
  },
  {
   "cell_type": "markdown",
   "metadata": {},
   "source": [
    "We are now ready to perform this selection for all image deltas in the\n",
    "sequence. We shall also store\n",
    "the bbox information, which will be used to track the\n",
    "position of the S-L interface.\n",
    "\n"
   ]
  },
  {
   "cell_type": "code",
   "execution_count": null,
   "metadata": {},
   "outputs": [],
   "source": [
    "largest_region = np.empty_like(binarized)\n",
    "bboxes = []\n",
    "\n",
    "for i in range(binarized.shape[0]):\n",
    "    labeled = measure.label(binarized[i, :, :])\n",
    "    props = measure.regionprops_table(\n",
    "            labeled, properties=('label', 'area', 'bbox'))\n",
    "    props_df = pd.DataFrame(props)\n",
    "    props_df = props_df.sort_values('area', ascending=False)\n",
    "    largest_region[i, :, :] = (labeled == props_df.iloc[0]['label'])\n",
    "    bboxes.append([props_df.iloc[0][f'bbox-{i}'] for i in range(4)])\n",
    "fig = px.imshow(\n",
    "    largest_region,\n",
    "    animation_frame=0,\n",
    "    binary_string=True,\n",
    "    labels={'animation_frame': 'time point'}\n",
    ")\n",
    "plotly.io.show(fig)"
   ]
  },
  {
   "cell_type": "markdown",
   "metadata": {},
   "source": [
    "## Plot interface location over time\n",
    "The final step in this analysis is to plot the location of the S-L\n",
    "interfaces over time. This can be achieved by plotting ``maxr``\n",
    "(third element in bbox)\n",
    "over time since this value shows the `y` location of the bottom of\n",
    "the interface. The pixel size in this experiment was 1.93 microns\n",
    "and the framerate was 80,000 frames per second, so these values\n",
    "are used to convert pixels and image number to physical units.\n",
    "We calculate the average solidfication velocity by fitting a linear\n",
    "polynomial to the scatter plot. The velocity is the first-order coefficient.\n",
    "\n"
   ]
  },
  {
   "cell_type": "code",
   "execution_count": null,
   "metadata": {},
   "outputs": [],
   "source": [
    "ums_per_pixel = 1.93\n",
    "fps = 80000\n",
    "interface_y_um = [ums_per_pixel * bbox[2] for bbox in bboxes]\n",
    "time_us = 1e6 / fps * np.arange(len(interface_y_um))\n",
    "fig, ax = plt.subplots(dpi=100)\n",
    "ax.scatter(time_us, interface_y_um)\n",
    "c0, c1 = np.polynomial.polynomial.polyfit(time_us, interface_y_um, 1)\n",
    "ax.plot(time_us, c1 * time_us + c0, label=f'Velocity: {abs(round(c1, 3))} m/s')\n",
    "ax.set_title('S-L interface location vs. time')\n",
    "ax.set_ylabel(r'Location ($\\mu$m)')\n",
    "ax.set_xlabel(r'Time ($\\mu$s)')\n",
    "plt.show()"
   ]
  }
 ],
 "metadata": {
  "kernelspec": {
   "display_name": "Python 3",
   "language": "python",
   "name": "python3"
  },
  "language_info": {
   "codemirror_mode": {
    "name": "ipython",
    "version": 3
   },
   "file_extension": ".py",
   "mimetype": "text/x-python",
   "name": "python",
   "nbconvert_exporter": "python",
   "pygments_lexer": "ipython3",
   "version": "3.9.18"
  }
 },
 "nbformat": 4,
 "nbformat_minor": 0
}
