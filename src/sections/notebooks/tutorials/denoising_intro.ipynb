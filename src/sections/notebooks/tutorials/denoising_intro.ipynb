{
 "cells": [
  {
   "cell_type": "markdown",
   "metadata": {
    "tags": [
     "nbsphinx-gallery"
    ]
   },
   "source": [
    "![denoising](../../../images/denoising_lg.jpeg)\n",
    "# 🪄 Simple image denoising\n",
    "\n",
    "In this notebook, we will introduce image denoising in Python using Scikit-image."
   ]
  },
  {
   "cell_type": "markdown",
   "metadata": {},
   "source": [
    "If you haven't already, we recommend you take a look at these tutorials before this one:\n",
    "\n",
    "- [🐍 Setting up Python for scientific image analysis](../../python_setup.md)\n",
    "- [🚩 Image data manipulation in Python](./image_manipulation.ipynb)"
   ]
  },
  {
   "cell_type": "markdown",
   "metadata": {},
   "source": [
    "## Introduction\n",
    "\n",
    "Image denoising is used to generate images with high visual quality, in which structures are easily distinguishable, and noisy pixels are removed. Denoised images are often more amendable to thresholding for segmentation."
   ]
  },
  {
   "cell_type": "markdown",
   "metadata": {},
   "source": [
    "To begin our image denoising demonstration, we will first import a few libraries:\n",
    "\n",
    "- [Matplotlib](https://matplotlib.org/) to display images.\n",
    "- [Numpy](https://numpy.org/) to manipulate numerical arrays."
   ]
  },
  {
   "cell_type": "code",
   "execution_count": null,
   "metadata": {},
   "outputs": [],
   "source": [
    "import matplotlib.pyplot as plt\n",
    "import numpy as np"
   ]
  },
  {
   "cell_type": "markdown",
   "metadata": {},
   "source": [
    "We will also need [scikit-image](https://scikit-image.org/), which will provides us with image processing filters, algorithms, and utility functions (e.g. for loading images).\n",
    "\n",
    "Let's load the `coins` image from Scikit-image's `data` module to use it as an example."
   ]
  },
  {
   "cell_type": "code",
   "execution_count": null,
   "metadata": {},
   "outputs": [],
   "source": [
    "from skimage.data import coins\n",
    "\n",
    "image = coins() # An example image\n",
    "\n",
    "print(f\"Image shape (px): {image.shape}. Min value = {image.min()}, Max value = {image.max()}. Data type: {image.dtype}\")"
   ]
  },
  {
   "cell_type": "markdown",
   "metadata": {},
   "source": [
    "Let's define a function that we can reuse to display images."
   ]
  },
  {
   "cell_type": "code",
   "execution_count": null,
   "metadata": {},
   "outputs": [],
   "source": [
    "def display_image(image, title=''):\n",
    "    fig, ax = plt.subplots(figsize=(10, 10))\n",
    "    ax.imshow(image, vmin=0, vmax=255, cmap=plt.cm.gray)\n",
    "    ax.set_title(title)\n",
    "    ax.axis('off')\n",
    "    plt.show()\n",
    "\n",
    "display_image(image)"
   ]
  },
  {
   "cell_type": "markdown",
   "metadata": {},
   "source": [
    "````{note}\n",
    "To read an image saved locally, you could use Scikit-image's `io` (input-output) module and provide a path to your image file. For example:\n",
    "\n",
    "```\n",
    "from skimage import io\n",
    "\n",
    "image = io.imread('/path/to/my_image.tif')\n",
    "\n",
    "display_image(image)\n",
    "```\n",
    "\n",
    "````"
   ]
  },
  {
   "cell_type": "markdown",
   "metadata": {},
   "source": [
    "## Adding artificial noise to the image\n",
    "\n",
    "For the sake of this tutorial, we will add some Gaussian noise to our image to simulate a noisy acquisition."
   ]
  },
  {
   "cell_type": "code",
   "execution_count": null,
   "metadata": {},
   "outputs": [],
   "source": [
    "noise = np.random.normal(loc=0, scale=10, size=image.shape)\n",
    "noisy_image = image + noise\n",
    "noisy_image = np.clip(noisy_image, 0, 255)\n",
    "\n",
    "display_image(image, 'Original image')\n",
    "display_image(noisy_image, 'Original image + noise')"
   ]
  },
  {
   "cell_type": "markdown",
   "metadata": {},
   "source": [
    "## Denoising techniques\n",
    "\n",
    "Let's try denoising our image. To do this, we'll first test the application of a `gaussian` filter and a `median` filter to the noisy image."
   ]
  },
  {
   "cell_type": "code",
   "execution_count": null,
   "metadata": {},
   "outputs": [],
   "source": [
    "from skimage.filters import gaussian, median"
   ]
  },
  {
   "cell_type": "markdown",
   "metadata": {},
   "source": [
    "The `sigma` parameter of the Gaussian filter controls the degree of blurring in the image. There is a trade-off between the intensity of the blurring and the preservation of fine details in the image.\n",
    "\n",
    "```{tip}\n",
    "Try applying different values of `sigma` and observe how it affects the resulting image!\n",
    "```"
   ]
  },
  {
   "cell_type": "code",
   "execution_count": null,
   "metadata": {},
   "outputs": [],
   "source": [
    "denoised_image_gaussian = gaussian(noisy_image, sigma=1)\n",
    "\n",
    "display_image(denoised_image_gaussian)"
   ]
  },
  {
   "cell_type": "markdown",
   "metadata": {},
   "source": [
    "Let's compare this method with the application of a `median` filter."
   ]
  },
  {
   "cell_type": "code",
   "execution_count": null,
   "metadata": {},
   "outputs": [],
   "source": [
    "denoised_image_median = median(noisy_image)\n",
    "\n",
    "display_image(denoised_image_median)"
   ]
  },
  {
   "cell_type": "markdown",
   "metadata": {},
   "source": [
    "Finally, let's use **non-local means** denoising. In this case, we also estimate the standard deviation of the noise from the image."
   ]
  },
  {
   "cell_type": "code",
   "execution_count": null,
   "metadata": {},
   "outputs": [],
   "source": [
    "from skimage.restoration import denoise_nl_means, estimate_sigma"
   ]
  },
  {
   "cell_type": "code",
   "execution_count": null,
   "metadata": {},
   "outputs": [],
   "source": [
    "sigma_est = estimate_sigma(noisy_image)\n",
    "\n",
    "print(f\"Estimated standard deviation of the noise: {sigma_est:.1f}\")"
   ]
  },
  {
   "cell_type": "markdown",
   "metadata": {},
   "source": [
    "Our estimate is not too far from the value of `10` that we have used when simulating the noise!"
   ]
  },
  {
   "cell_type": "code",
   "execution_count": null,
   "metadata": {},
   "outputs": [],
   "source": [
    "denoised_image_nl_means = denoise_nl_means(noisy_image, h=1.15*sigma_est, fast_mode=True, patch_size=5, patch_distance=6)\n",
    "\n",
    "display_image(denoised_image_nl_means)"
   ]
  },
  {
   "cell_type": "markdown",
   "metadata": {},
   "source": [
    "As usual, to learn more about the functions we use, it's a good idea to read their documentation."
   ]
  },
  {
   "cell_type": "code",
   "execution_count": null,
   "metadata": {
    "tags": [
     "hide-output"
    ]
   },
   "outputs": [],
   "source": [
    "help(denoise_nl_means)"
   ]
  },
  {
   "cell_type": "markdown",
   "metadata": {},
   "source": [
    "## Conclusion\n",
    "\n",
    "In this tutorial, we have looked at three simple methods for denoising an image:\n",
    "\n",
    "- Applying a Gaussian filter\n",
    "- Applying a Median filter\n",
    "- Non-local means filtering"
   ]
  },
  {
   "cell_type": "markdown",
   "metadata": {},
   "source": [
    "\n",
    "## Going further\n",
    "\n",
    "There are many other powerful denoising techniques and algorithms, and much more to know. We recommend that you have a look at Scikit-image's excellent resources on the topic.\n",
    "\n",
    "- [skimage.restoration](https://scikit-image.org/docs/stable/api/skimage.restoration.html)\n",
    "- [Denoising a picture](https://scikit-image.org/docs/stable/auto_examples/filters/plot_denoise.html)\n",
    "- [Comparing Different Classes of Denoisers](https://scikit-image.org/docs/stable/auto_examples/filters/plot_j_invariant_tutorial.html#comparing-different-classes-of-denoiser)\n",
    "  \n",
    "You can also have a look at our collections of learning resources, jupyter notebooks, and software tools related to `Image denoising` on our [topic page](../../starter_packs/image_denoising.md)."
   ]
  },
  {
   "cell_type": "markdown",
   "metadata": {},
   "source": []
  }
 ],
 "metadata": {
  "kernelspec": {
   "display_name": "image-analysis-field-guide",
   "language": "python",
   "name": "python3"
  },
  "language_info": {
   "codemirror_mode": {
    "name": "ipython",
    "version": 3
   },
   "file_extension": ".py",
   "mimetype": "text/x-python",
   "name": "python",
   "nbconvert_exporter": "python",
   "pygments_lexer": "ipython3",
   "version": "3.9.18"
  }
 },
 "nbformat": 4,
 "nbformat_minor": 2
}
