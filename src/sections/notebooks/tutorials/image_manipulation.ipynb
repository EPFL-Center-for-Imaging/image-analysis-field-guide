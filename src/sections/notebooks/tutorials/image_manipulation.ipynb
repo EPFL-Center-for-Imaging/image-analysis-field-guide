{
 "cells": [
  {
   "cell_type": "markdown",
   "metadata": {},
   "source": [
    "![figure](../../../images/epfl.jpeg)\n",
    "# 🚩 Image data manipulation in Python\n",
    "\n",
    "In this tutorial, we will introduce the basics of image data manipulation in Python."
   ]
  },
  {
   "cell_type": "markdown",
   "metadata": {},
   "source": [
    "```{admonition} This content does not exist yet!\n",
    "In the meantime, we recommend that you follow Scikit-image's [Crash course on NumPy for images](https://scikit-image.org/docs/stable/user_guide/numpy_images.html) or [Python: Images & pixels](https://bioimagebook.github.io/chapters/1-concepts/1-images_and_pixels/python.html#) from Pete Bankhead's [Introduction to Bioimage Analysis](https://bioimagebook.github.io/README.html).\n",
    "```"
   ]
  }
 ],
 "metadata": {
  "language_info": {
   "name": "python"
  }
 },
 "nbformat": 4,
 "nbformat_minor": 2
}
