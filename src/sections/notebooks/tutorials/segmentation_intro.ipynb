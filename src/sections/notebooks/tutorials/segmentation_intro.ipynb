{
 "cells": [
  {
   "cell_type": "markdown",
   "metadata": {},
   "source": [
    "![segmentation](../../../images/segmentation_lg.jpeg)\n",
    "# ✂️ Introduction to image segmentation\n",
    "\n",
    "```{admonition} This content does not exist yet!\n",
    "We are working on it. In the meantime, we recommend that you follow Pete Bankhead's excellent introduction to [Thresholding](https://bioimagebook.github.io/chapters/2-processing/3-thresholding/thresholding.html).\n",
    "```"
   ]
  },
  {
   "cell_type": "code",
   "execution_count": null,
   "metadata": {
    "vscode": {
     "languageId": "plaintext"
    }
   },
   "outputs": [],
   "source": []
  }
 ],
 "metadata": {
  "language_info": {
   "name": "python"
  }
 },
 "nbformat": 4,
 "nbformat_minor": 2
}
