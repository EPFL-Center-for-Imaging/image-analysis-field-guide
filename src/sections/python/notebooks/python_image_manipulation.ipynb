{
 "cells": [
  {
   "cell_type": "markdown",
   "metadata": {},
   "source": [
    "```{glue:} glued_fig\n",
    "```\n",
    "\n",
    "# 🚩 Image data handling using Python, Numpy, and Scikit-image\n",
    "\n",
    "In this tutorial, we will introduce the basics of image data manipulation in Python using Numpy and [Scikit-image](https://scikit-image.org). We will cover how to load images, display them, and manipulate their contents using these libraries."
   ]
  },
  {
   "cell_type": "code",
   "execution_count": null,
   "metadata": {
    "tags": [
     "remove-input"
    ]
   },
   "outputs": [],
   "source": [
    "from myst_nb import glue"
   ]
  },
  {
   "cell_type": "markdown",
   "metadata": {},
   "source": [
    "## Loading and displaying and image\n",
    "\n",
    "First, we load an example image from the `skimage.data` module, which provides a variety of example images to play with."
   ]
  },
  {
   "cell_type": "code",
   "execution_count": null,
   "metadata": {},
   "outputs": [],
   "source": [
    "import skimage.data\n",
    "\n",
    "image = skimage.data.coins()\n",
    "\n",
    "image"
   ]
  },
  {
   "cell_type": "markdown",
   "metadata": {},
   "source": [
    "We can see that images are just matrices of intensities. However, showing them as such is not convenient. For visualizing images in notebooks, we can use the [imshow](https://scikit-image.org/docs/dev/api/skimage.io.html#skimage.io.imshow) function."
   ]
  },
  {
   "cell_type": "code",
   "execution_count": null,
   "metadata": {},
   "outputs": [],
   "source": [
    "from skimage.io import imshow\n",
    "\n",
    "imshow(image)"
   ]
  },
  {
   "cell_type": "markdown",
   "metadata": {},
   "source": [
    "## Image properties\n",
    "\n",
    "We can check that the image is represented as a Numpy array. We can explore several attributes of this image array:"
   ]
  },
  {
   "cell_type": "code",
   "execution_count": null,
   "metadata": {},
   "outputs": [],
   "source": [
    "print(f'Type of the image: {type(image)}')  # Should be a numpy array\n",
    "print(f'Shape of the image: {image.shape}')  # Dimensions of the image\n",
    "print(f'Minimum pixel value: {image.min()}')  # Min pixel value\n",
    "print(f'Maximum pixel value: {image.max()}')  # Max pixel value\n",
    "print(f'Mean pixel value: {image.mean():.2f}')  # Average pixel value"
   ]
  },
  {
   "cell_type": "markdown",
   "metadata": {},
   "source": [
    "### Accessing and Modifying Pixel Values\n",
    "\n",
    "We can access specific pixels or modify parts of the image array using two powerful Numpy features: **indexing** and **masking**.\n",
    "\n",
    "**Indexing** can be used to access and modify subregions of the image."
   ]
  },
  {
   "cell_type": "code",
   "execution_count": null,
   "metadata": {},
   "outputs": [],
   "source": [
    "# Pixel value at coordinate (10, 20)\n",
    "image[10, 20]"
   ]
  },
  {
   "cell_type": "code",
   "execution_count": null,
   "metadata": {},
   "outputs": [],
   "source": [
    "image[10:50, 10:50] = 255  # Set a 40x40 square to white\n",
    "\n",
    "imshow(image)"
   ]
  },
  {
   "cell_type": "markdown",
   "metadata": {},
   "source": [
    "**Masking** is used to create masks to isolate parts of an image based on pixel values."
   ]
  },
  {
   "cell_type": "code",
   "execution_count": null,
   "metadata": {},
   "outputs": [],
   "source": [
    "mask = image < 87\n",
    "\n",
    "imshow(mask)"
   ]
  },
  {
   "cell_type": "code",
   "execution_count": null,
   "metadata": {},
   "outputs": [],
   "source": [
    "image[mask] = 255\n",
    "\n",
    "import matplotlib.pyplot as plt\n",
    "\n",
    "def display_image(image, title=''):\n",
    "    fig, ax = plt.subplots(figsize=(10, 10))\n",
    "    ax.imshow(image, vmin=0, vmax=255, cmap=plt.cm.gray)\n",
    "    ax.set_title(title)\n",
    "    ax.axis('off')\n",
    "    return fig\n",
    "\n",
    "fig = display_image(image)\n",
    "plt.show()"
   ]
  },
  {
   "cell_type": "code",
   "execution_count": null,
   "metadata": {
    "tags": [
     "remove-input"
    ]
   },
   "outputs": [],
   "source": [
    "glue('glued_fig', fig, display=False)"
   ]
  },
  {
   "cell_type": "markdown",
   "metadata": {},
   "source": [
    "## Conclusion\n",
    "\n",
    "This tutorial introduced basic operations for image analysis using Numpy and Scikit-image. By manipulating image data, we can prepare images for more complex image analysis applications.\n",
    "\n",
    "**Going further**\n",
    "\n",
    "* [Crash course on NumPy for images](https://scikit-image.org/docs/stable/user_guide/numpy_images.html)\n",
    "* [Python: Images & pixels](https://bioimagebook.github.io/chapters/1-concepts/1-images_and_pixels/python.html)"
   ]
  }
 ],
 "metadata": {
  "language_info": {
   "codemirror_mode": {
    "name": "ipython",
    "version": 3
   },
   "file_extension": ".py",
   "mimetype": "text/x-python",
   "name": "python",
   "nbconvert_exporter": "python",
   "pygments_lexer": "ipython3",
   "version": "3.11.9"
  }
 },
 "nbformat": 4,
 "nbformat_minor": 4
}
