{
 "cells": [
  {
   "attachments": {},
   "cell_type": "markdown",
   "metadata": {},
   "source": [
    "```{glue:} glued_fig\n",
    "```\n",
    "# Cell nuclei detection using StarDist\n",
    "\n",
    "In this notebook, we will use StarDist to detect cell nuclei in an image extracted from a public dataset of histopathology images."
   ]
  },
  {
   "cell_type": "markdown",
   "metadata": {},
   "source": [
    "[StarDist](https://github.com/stardist/stardist) is a deep-learning based Python library used for segmenting star-convex objects, such as cell nuclei, in 2D and 3D images. It is also available as plugins for [ImageJ](https://imagej.net/plugins/stardist), [Napari](https://github.com/stardist/stardist-napari), and [Qupath](https://qupath.readthedocs.io/en/0.3/docs/advanced/stardist.html).\n"
   ]
  },
  {
   "cell_type": "code",
   "execution_count": null,
   "metadata": {
    "tags": [
     "remove-input"
    ]
   },
   "outputs": [],
   "source": [
    "from myst_nb import glue\n",
    "import panel as pn\n",
    "pn.extension('plotly')"
   ]
  },
  {
   "attachments": {},
   "cell_type": "markdown",
   "metadata": {},
   "source": [
    "## Setup\n",
    "\n",
    "Check that you have the `stardist` package installed (`pip install stardist`)."
   ]
  },
  {
   "cell_type": "code",
   "execution_count": null,
   "metadata": {
    "tags": [
     "hide-output"
    ]
   },
   "outputs": [],
   "source": [
    "from stardist.models import StarDist2D"
   ]
  },
  {
   "attachments": {},
   "cell_type": "markdown",
   "metadata": {},
   "source": [
    "## Download and read the image\n",
    "\n",
    "The image we'll use in this tutorial is available for download on [Zenodo](https://zenodo.org/record/8099852) (`deepslide.png`). This image is part of the [DeepSlides](https://zenodo.org/record/1184621) public dataset.\n",
    "\n",
    "In the cell below, we download this image from Zenodo and read it into a Numpy array."
   ]
  },
  {
   "cell_type": "code",
   "execution_count": null,
   "metadata": {
    "tags": []
   },
   "outputs": [],
   "source": [
    "from shared_data import DATASET  # This dataset has a reference to the image on Zenodo.\n",
    "from skimage.io import imread\n",
    "\n",
    "image_file = DATASET.fetch(\"deepslide.png\")\n",
    "\n",
    "image = imread(image_file)\n",
    "\n",
    "print(f'Loaded image in an array of shape: {image.shape} and data type {image.dtype}')\n",
    "print(f'Intensity range: [{image.min()} - {image.max()}]')"
   ]
  },
  {
   "cell_type": "markdown",
   "metadata": {},
   "source": [
    "## Visualize the image using matplotlib\n",
    "\n",
    "Let's have a quick look at our example image."
   ]
  },
  {
   "cell_type": "code",
   "execution_count": null,
   "metadata": {
    "tags": [
     "nbsphinx-thumbnail",
     "nbsphinx-link-gallery"
    ]
   },
   "outputs": [],
   "source": [
    "import matplotlib.pyplot as plt\n",
    "\n",
    "fig_mpl, ax = plt.subplots(figsize=(8, 8))\n",
    "ax.imshow(image, cmap='gray')\n",
    "plt.title(\"H&E (DeepSlides)\")\n",
    "plt.axis('off')  # Hide axes ticks\n",
    "plt.show()"
   ]
  },
  {
   "cell_type": "markdown",
   "metadata": {},
   "source": [
    "## Intensity normalization\n",
    "\n",
    "Let's rescale our image to the range 0-1. By doing so, it is also converted to an array of data type `float`."
   ]
  },
  {
   "cell_type": "code",
   "execution_count": null,
   "metadata": {},
   "outputs": [],
   "source": [
    "from skimage.exposure import rescale_intensity\n",
    "\n",
    "image_normed = rescale_intensity(image, out_range=(0, 1))\n",
    "\n",
    "print(f'Intensity range: [{image_normed.min()} - {image_normed.max()}]')\n",
    "print(f'Array type: {image_normed.dtype}')"
   ]
  },
  {
   "attachments": {},
   "cell_type": "markdown",
   "metadata": {},
   "source": [
    "## Create a StarDist model\n",
    "\n",
    "The StarDist developers provide a few pre-trained models that may already be applied to suitable images.\n",
    "\n",
    "Here, we will use the *Versatile (H&E nuclei)* model that was trained on images from the MoNuSeg 2018 training data and the TNBC dataset from Naylor et al. (2018)."
   ]
  },
  {
   "cell_type": "code",
   "execution_count": null,
   "metadata": {},
   "outputs": [],
   "source": [
    "model = StarDist2D.from_pretrained(\"2D_versatile_he\")\n",
    "\n",
    "model"
   ]
  },
  {
   "attachments": {},
   "cell_type": "markdown",
   "metadata": {},
   "source": [
    "## Run the model\n",
    "\n",
    "We use the `predict_instances` method of the model to generate a segmenation mask (`labels`) and a representation of the cell nuclei as polygons (`polys`)."
   ]
  },
  {
   "cell_type": "code",
   "execution_count": null,
   "metadata": {},
   "outputs": [],
   "source": [
    "labels, polys = model.predict_instances(\n",
    "    image_normed,  # The image must be normalized\n",
    "    axes=\"YXC\",\n",
    "    prob_thresh=0.5,  # Detection probability threshold\n",
    "    nms_thresh=0.1,  # Remove detections overlapping by more than this threshold\n",
    "    scale=1,  # Higher values are suitable for lower resolution data\n",
    "    return_labels=True,\n",
    ")\n",
    "\n",
    "# We also get detection probabilities:\n",
    "probabilities = list(polys[\"prob\"])\n",
    "\n",
    "n_detections = len(probabilities)\n",
    "\n",
    "print(f'{n_detections} cells detected.')"
   ]
  },
  {
   "attachments": {},
   "cell_type": "markdown",
   "metadata": {},
   "source": [
    "## Visualization using Plotly\n",
    "\n",
    "We display the segmentation overlaid on the image."
   ]
  },
  {
   "cell_type": "code",
   "execution_count": null,
   "metadata": {},
   "outputs": [],
   "source": [
    "import numpy as np\n",
    "import plotly.express as px\n",
    "import skimage.measure\n",
    "import matplotlib\n",
    "\n",
    "# Create a custom color lookup table based on detection probabilities\n",
    "probas_incl_bg = np.zeros(n_detections + 1)  # Include a value for the background\n",
    "probas_incl_bg[1:] = probabilities\n",
    "\n",
    "fig = px.imshow(image, color_continuous_scale='gray')\n",
    "    \n",
    "for k, prob in zip(np.unique(labels), probabilities):\n",
    "    col = (np.array(matplotlib.colormaps['inferno'](prob)) * 255).astype(int)\n",
    "    ctr = skimage.measure.find_contours(labels == k)[0]\n",
    "    cy, cx = np.mean(ctr, axis=0)\n",
    "    y, x = ctr.T - 1\n",
    "    fig.add_scatter(\n",
    "        x=x,\n",
    "        y=y,\n",
    "        mode=\"lines\",\n",
    "        showlegend=False,\n",
    "        line=dict(color=f'rgb({col[0]}, {col[1]}, {col[2]}, {col[3]})', width=1),\n",
    "        hoverinfo=\"skip\",\n",
    "        opacity=1.0,\n",
    "        fill=\"toself\",\n",
    "    )\n",
    "    fig.add_scatter(\n",
    "        x=[cx],\n",
    "        y=[cy],\n",
    "        mode='text',\n",
    "        showlegend=False,\n",
    "        text=[f'{prob:.02f}'],\n",
    "        textposition=\"middle center\",\n",
    "        textfont=dict(family=\"Arial\", size=12, color=\"white\")\n",
    "    )\n",
    "\n",
    "fig.update_layout(\n",
    "    title=f\"StarDist result: {n_detections} cells detected.\",\n",
    "    width=600, \n",
    "    height=600, \n",
    "    margin=dict(t=50, l=0, b=0, r=0),\n",
    "    xaxis=dict(showticklabels=False, ticks=\"\"),\n",
    "    yaxis=dict(showticklabels=False, ticks=\"\"),\n",
    "    plot_bgcolor='white'\n",
    ")\n",
    "\n",
    "glue('glued_fig', pn.pane.Plotly(fig), display=False)"
   ]
  },
  {
   "cell_type": "markdown",
   "metadata": {},
   "source": [
    "```{glue:} glued_fig\n",
    "```"
   ]
  },
  {
   "cell_type": "markdown",
   "metadata": {},
   "source": [
    "## Conclusion\n",
    "\n",
    "In this notebook, we have used `StarDist` to segment cell nuclei in an image from the DeepSlides dataset."
   ]
  },
  {
   "cell_type": "code",
   "execution_count": null,
   "metadata": {
    "tags": [
     "remove-input"
    ]
   },
   "outputs": [],
   "source": [
    "fig.write_image(\"../images/stardist_plotly.jpeg\")"
   ]
  },
  {
   "cell_type": "markdown",
   "metadata": {
    "tags": [
     "remove-cell"
    ]
   },
   "source": [
    "![stardist](../../../images/stardist_plotly.jpeg)"
   ]
  }
 ],
 "metadata": {
  "kernelspec": {
   "display_name": "Python 3 (ipykernel)",
   "language": "python",
   "name": "python3"
  },
  "language_info": {
   "codemirror_mode": {
    "name": "ipython",
    "version": 3
   },
   "file_extension": ".py",
   "mimetype": "text/x-python",
   "name": "python",
   "nbconvert_exporter": "python",
   "pygments_lexer": "ipython3",
   "version": "3.9.19"
  }
 },
 "nbformat": 4,
 "nbformat_minor": 4
}
