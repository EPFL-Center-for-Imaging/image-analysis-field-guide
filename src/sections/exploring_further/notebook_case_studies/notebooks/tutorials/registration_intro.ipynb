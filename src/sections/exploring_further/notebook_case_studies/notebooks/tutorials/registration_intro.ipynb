{
 "cells": [
  {
   "attachments": {},
   "cell_type": "markdown",
   "metadata": {},
   "source": [
    "![registration](../../../../../images/dic_fig.jpeg)\n",
    "# 📐 Introduction to image registration\n",
    "\n",
    "In this notebook, we will use Python to automatically align a pair of 3D images onto one another using digital image correlation (DIC)."
   ]
  },
  {
   "cell_type": "markdown",
   "metadata": {},
   "source": [
    "DIC is commonly used for image registration and for stabilizing a sequence of images by compensating camera movement, for tracking the movement and deformation of objects, and for image stitching of multiple fields of view, for example.\n",
    "\n",
    "```{tip}\n",
    "To learn more about DIC and `spam`, have a look at these resources:\n",
    "\n",
    "- [Image correlation – Theory](https://ttk.gricad-pages.univ-grenoble-alpes.fr/spam/tutorials/tutorial-02a-DIC-theory.html)\n",
    "- [ Image correlation – Practice](https://ttk.gricad-pages.univ-grenoble-alpes.fr/spam/tutorials/tutorial-02b-DIC-practice.html)\n",
    "```"
   ]
  },
  {
   "attachments": {},
   "cell_type": "markdown",
   "metadata": {},
   "source": [
    "## Setup\n",
    "\n",
    "Check that you have all the necessary packages installed, including [`napari`](https://napari.org/stable/tutorials/fundamentals/installation) and [`spam`](https://www.spam-project.dev/docs/installation/index.html)."
   ]
  },
  {
   "cell_type": "code",
   "execution_count": null,
   "metadata": {},
   "outputs": [],
   "source": [
    "import napari\n",
    "import spam.DIC\n",
    "import spam.deformation"
   ]
  },
  {
   "cell_type": "markdown",
   "metadata": {},
   "source": [
    "### Remote desktop\n",
    "\n",
    "If you are executing this notebook on a remote server (and not on your personal computer) such as on a Jupyter Hub, you'll have to launch a *Remote Desktop* from the start menu of Jupyter Lab to be able to see the Napari Viewer in it."
   ]
  },
  {
   "cell_type": "code",
   "execution_count": null,
   "metadata": {
    "tags": [
     "hide-input"
    ]
   },
   "outputs": [],
   "source": [
    "import os\n",
    "\n",
    "if not 'DISPLAY' in os.environ:\n",
    "    print('Make sure to have started a Remote desktop from the Jupyter start menu!')\n",
    "    os.environ['DISPLAY'] = ':1.0'"
   ]
  },
  {
   "attachments": {},
   "cell_type": "markdown",
   "metadata": {},
   "source": [
    "## Get the data\n",
    "\n",
    "The image we'll use in this tutorial is available for download on [Zenodo](https://zenodo.org/record/8099852) (`snow_3d.tif`). The data represents snow grains which were CT scanned at 15 μm/px. It comes from an experiment by Peinke et al. from CEN / CNRM / Météo-France - CNRS. The sample was scanned in the Laboratoire 3SR micro-tomograph.\n",
    "\n",
    "In the cell below, we use a Python package called [pooch](https://pypi.org/project/pooch/) to automatically download the image from Zenodo."
   ]
  },
  {
   "cell_type": "code",
   "execution_count": null,
   "metadata": {
    "tags": [
     "hide-output"
    ]
   },
   "outputs": [],
   "source": [
    "import os\n",
    "import pooch\n",
    "from pathlib import Path\n",
    "\n",
    "data_path = Path(os.path.expanduser(\n",
    "    os.path.join(os.getenv(\"XDG_DATA_HOME\", \"~\"), \".field-guide\")\n",
    "))\n",
    "\n",
    "fname = 'snow_3d.tif'\n",
    "\n",
    "pooch.retrieve(\n",
    "    url=\"https://zenodo.org/record/8099852/files/snow_3d.tif\",\n",
    "    known_hash=\"md5:66c5130131f7707f5796c17916d70cc2\",\n",
    "    path=data_path,\n",
    "    fname=fname,\n",
    "    progressbar=True,\n",
    ")\n",
    "\n",
    "print(f'Downloaded image {fname} into: {data_path}')"
   ]
  },
  {
   "attachments": {},
   "cell_type": "markdown",
   "metadata": {},
   "source": [
    "## Read the image\n",
    "\n",
    "We use the `imread` function from Scikit-image to read our TIF image."
   ]
  },
  {
   "cell_type": "code",
   "execution_count": null,
   "metadata": {},
   "outputs": [],
   "source": [
    "from skimage.io import imread\n",
    "\n",
    "image = imread(data_path / 'snow_3d.tif')\n",
    "\n",
    "print(f'Loaded image in an array of shape: {image.shape} and data type {image.dtype}')\n",
    "print(f'Intensity range: [{image.min()} - {image.max()}]')"
   ]
  },
  {
   "cell_type": "markdown",
   "metadata": {},
   "source": [
    "## Load the image into Napari\n",
    "\n",
    "Let's open a viewer and load our image to have a look at it."
   ]
  },
  {
   "cell_type": "code",
   "execution_count": null,
   "metadata": {},
   "outputs": [],
   "source": [
    "viewer = napari.Viewer(title=\"Image registration\")\n",
    "viewer.add_image(image, colormap='magenta', name='Fixed image')"
   ]
  },
  {
   "attachments": {},
   "cell_type": "markdown",
   "metadata": {},
   "source": [
    "## Generate a misaligned image\n",
    "\n",
    "For the sake of this demonstration, we will rotate and translate the original image by an arbitrary amount to produce a misaligned image. We will then attempt to register this misaligned image back onto the orginal image. In this way, since we know the true transformation, we will be able to compare it to the transformation determined by the DIC algorithm.\n",
    "\n",
    "In reality, the fixed and moving images would be acquired independently - but the concept is the same!"
   ]
  },
  {
   "cell_type": "code",
   "execution_count": null,
   "metadata": {},
   "outputs": [],
   "source": [
    "# Choose a transformation to apply to the original image\n",
    "transformation = {\n",
    "    't': [0.0, 3.0, 2.5],  # Translation in Z, Y, X\n",
    "    'r': [3.0, 0.0, 0.0],  # Rotation (in degrees) around Z, Y, X\n",
    "}\n",
    "\n",
    "# The 4 x 4 matrix `Phi` represents the 3D transformation applied to the image.\n",
    "# Learn more: https://ttk.gricad-pages.univ-grenoble-alpes.fr/spam/tutorials/tutorial-02a-DIC-theory.html\n",
    "Phi_ground_truth = spam.deformation.computePhi(transformation)\n",
    "\n",
    "Phi_ground_truth"
   ]
  },
  {
   "attachments": {},
   "cell_type": "markdown",
   "metadata": {},
   "source": [
    "We generate our *moving image* by applying the transform:"
   ]
  },
  {
   "cell_type": "code",
   "execution_count": null,
   "metadata": {},
   "outputs": [],
   "source": [
    "# The moving image is rotated and translated with respect to the original image\n",
    "moving_image = spam.DIC.applyPhi(image, Phi=Phi_ground_truth)\n",
    "\n",
    "viewer.add_image(moving_image, colormap='blue', name=\"Moving image\")"
   ]
  },
  {
   "attachments": {},
   "cell_type": "markdown",
   "metadata": {},
   "source": [
    "## Registration by the optical flow method\n",
    "\n",
    "Now that we have a `moving_image`, we can try to align it onto the original image using DIC.\n",
    "\n",
    "We use the `register` function from `spam` to do that. The function returns a dictionary containing information about the registration (convergence, error...), including an estimate of the `Phi` deformation matrix that brings the moving image onto the original image."
   ]
  },
  {
   "cell_type": "code",
   "execution_count": null,
   "metadata": {},
   "outputs": [],
   "source": [
    "reg = spam.DIC.register(moving_image, image)\n",
    "\n",
    "Phi = reg.get('Phi')\n",
    "error = reg.get('deltaPhiNorm')\n",
    "\n",
    "transformation_estimate = spam.deformation.decomposePhi(Phi)\n",
    "\n",
    "print(f\"Translation (ZYX): {transformation_estimate['t']}\")\n",
    "print(f\"Rotation (deg) (ZYX): {transformation_estimate['r']}\")"
   ]
  },
  {
   "attachments": {},
   "cell_type": "markdown",
   "metadata": {},
   "source": [
    "This result is almost the exact opposite of the transform we applied to the original image, so it looks like the registration was successful!"
   ]
  },
  {
   "attachments": {},
   "cell_type": "markdown",
   "metadata": {},
   "source": [
    "## Apply the transform\n",
    "\n",
    "Let's apply our esimated transformation to the moving image to check that this transformation brings it back onto the original image."
   ]
  },
  {
   "cell_type": "code",
   "execution_count": null,
   "metadata": {},
   "outputs": [],
   "source": [
    "registered = spam.DIC.applyPhi(moving_image, Phi=Phi)\n",
    "\n",
    "# Trick: the `additive` blending mode applied to a layer with colormap `cyan` overlayed on a layer with\n",
    "# colormap `magenta` leads to a white color where the intensity in both layers is the same.\n",
    "viewer.add_image(registered, name=\"Registered\", colormap='cyan', blending='additive')\n",
    "\n",
    "# In Napari, you can display some text in the top-left part of the window, for example:\n",
    "viewer.text_overlay.visible = True\n",
    "viewer.text_overlay.text = f'deltaPhiNorm = {error:.2e}'"
   ]
  },
  {
   "attachments": {},
   "cell_type": "markdown",
   "metadata": {},
   "source": [
    "## Compute the error pixel-wise\n",
    "\n",
    "Finally, we can compute the pixel-wise squared difference between the registered and original image to visualize the error."
   ]
  },
  {
   "cell_type": "code",
   "execution_count": null,
   "metadata": {},
   "outputs": [],
   "source": [
    "import numpy as np\n",
    "\n",
    "difference = np.square(registered - image)\n",
    "\n",
    "viewer.add_image(difference, name=\"Squared difference\", colormap='twilight_shifted')"
   ]
  },
  {
   "attachments": {},
   "cell_type": "markdown",
   "metadata": {},
   "source": [
    "## Displacement vectors\n",
    "\n",
    "Finally, for the sake of visualization, we generate a grid of points onto our 3D image and show how they get displaced by the registration transform."
   ]
  },
  {
   "cell_type": "code",
   "execution_count": null,
   "metadata": {},
   "outputs": [],
   "source": [
    "node_spacing = (10, 10, 10)  # The pixel spacing between each vector in the grid, in Z/Y/X.\n",
    "\n",
    "node_positions = spam.DIC.makeGrid(image.shape, node_spacing)[0]\n",
    "\n",
    "# We apply our transform to each point in the grid to displace it.\n",
    "# Add a `1` to each node position to express it in homogeneous coordinates\n",
    "node_positions = np.hstack((node_positions, np.ones(len(node_positions))[None].T))\n",
    "\n",
    "# Displace the nodes (around the center of the image - not the corner)\n",
    "origin_point = np.array(image.shape) // 2\n",
    "origin_point = np.hstack((origin_point, [0.0])).astype(float)\n",
    "displaced_nodes = np.vectorize(lambda node: np.matmul(Phi, node - origin_point) + origin_point, signature='(n)->(n)')(node_positions)\n",
    "\n",
    "# Homogeneous -> Cartesian\n",
    "displaced_nodes = displaced_nodes[:, :-1]\n",
    "node_positions = node_positions[:, :-1]\n",
    "\n",
    "# Get the vectors in shape (N, 2, 3)\n",
    "displacements = displaced_nodes - node_positions\n",
    "displacement_vectors = np.concatenate((node_positions[np.newaxis], displacements[np.newaxis]))\n",
    "displacement_vectors = np.swapaxes(displacement_vectors, 0, 1)\n",
    "\n",
    "# Visualize the vectors\n",
    "viewer.add_vectors(displacement_vectors, name='Displacement', edge_width=0.7, opacity=1.0, ndim=3);"
   ]
  },
  {
   "cell_type": "markdown",
   "metadata": {},
   "source": [
    "## Conclusion\n",
    "\n",
    "In this notebook, we have had a first look at digital image correlation in Python using the `spam` package. We used Napari to visualize the results of the registration."
   ]
  },
  {
   "cell_type": "markdown",
   "metadata": {},
   "source": [
    "## Going further\n",
    "\n",
    "Have a look at our collections of **learning resources**, **jupyter notebooks**, and **softeware tools** related to `Image registration` on our [topic page](../../../../starter_packs/image_registration.md)."
   ]
  }
 ],
 "metadata": {
  "kernelspec": {
   "display_name": "Python 3 (ipykernel)",
   "language": "python",
   "name": "python3"
  },
  "language_info": {
   "codemirror_mode": {
    "name": "ipython",
    "version": 3
   },
   "file_extension": ".py",
   "mimetype": "text/x-python",
   "name": "python",
   "nbconvert_exporter": "python",
   "pygments_lexer": "ipython3",
   "version": "3.9.18"
  }
 },
 "nbformat": 4,
 "nbformat_minor": 4
}
