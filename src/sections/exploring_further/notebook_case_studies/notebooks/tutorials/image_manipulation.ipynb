{
    "cells": [
        {
            "cell_type": "markdown",
            "metadata": {},
            "source": [
                "![figure](../../../../../images/epfl.png)\n",
                "# 🚩 Basics of image data manipulation in Python\n",
                "---\n",
                "\n",
                "In this tutorial, we will introduce the Basics of image data manipulation in Python.\n",
                "\n",
                "Tags: `Tutorial`"
            ]
        },
        {
            "cell_type": "markdown",
            "metadata": {},
            "source": [
                "```{admonition} This content does not exist yet!\n",
                "In the meantime, we recommend that you follow Scikit-image's [Crash course on NumPy for images](https://scikit-image.org/docs/stable/user_guide/numpy_images.html) or [Python: Images & pixels](https://bioimagebook.github.io/chapters/1-concepts/1-images_and_pixels/python.html#) from Pete Bankhead's [Introduction to Bioimage Analysis](Introduction to Bioimage Analysis).\n",
                "```"
            ]
        }
    ],
    "metadata": {
        "language_info": {
            "name": "python"
        }
    },
    "nbformat": 4,
    "nbformat_minor": 2
}
