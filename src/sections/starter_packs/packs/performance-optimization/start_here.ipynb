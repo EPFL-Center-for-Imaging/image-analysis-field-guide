{
 "cells": [
  {
   "cell_type": "markdown",
   "metadata": {},
   "source": [
    "![performance](../../../../images/performance_lg.png)\n",
    "# 🔋 Performance optimization\n",
    "---\n",
    "\n",
    "Start here guide.\n",
    "\n",
    "Tags: `Optimization`, `Tutorial`"
   ]
  },
  {
   "cell_type": "code",
   "execution_count": null,
   "metadata": {
    "vscode": {
     "languageId": "plaintext"
    }
   },
   "outputs": [],
   "source": []
  }
 ],
 "metadata": {
  "language_info": {
   "name": "python"
  }
 },
 "nbformat": 4,
 "nbformat_minor": 2
}
