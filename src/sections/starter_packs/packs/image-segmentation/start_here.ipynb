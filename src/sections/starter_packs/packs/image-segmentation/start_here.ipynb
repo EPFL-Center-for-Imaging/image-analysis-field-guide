{
 "cells": [
  {
   "cell_type": "markdown",
   "metadata": {},
   "source": [
    "![segmentation](../../../../images/segmentation_lg.png)\n",
    "# ✂️ Image segmentation\n",
    "---\n",
    "\n",
    "Start here guide.\n",
    "\n",
    "Tags: `Image segmentation`, `Tutorial`"
   ]
  },
  {
   "cell_type": "code",
   "execution_count": null,
   "metadata": {
    "vscode": {
     "languageId": "plaintext"
    }
   },
   "outputs": [],
   "source": []
  }
 ],
 "metadata": {
  "language_info": {
   "name": "python"
  }
 },
 "nbformat": 4,
 "nbformat_minor": 2
}
