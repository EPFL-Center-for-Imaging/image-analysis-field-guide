{
 "cells": [
  {
   "cell_type": "markdown",
   "metadata": {},
   "source": [
    "![segmentation](../images/header.jpg)\n",
    "# Introduction to `Pyxu` for image reconstruction"
   ]
  },
  {
   "cell_type": "markdown",
   "metadata": {},
   "source": [
    "Soon."
   ]
  }
 ],
 "metadata": {
  "kernelspec": {
   "display_name": "field-guide-015",
   "language": "python",
   "name": "python3"
  },
  "language_info": {
   "codemirror_mode": {
    "name": "ipython",
    "version": 3
   },
   "file_extension": ".py",
   "mimetype": "text/x-python",
   "name": "python",
   "nbconvert_exporter": "python",
   "pygments_lexer": "ipython3",
   "version": "3.9.18"
  }
 },
 "nbformat": 4,
 "nbformat_minor": 2
}
