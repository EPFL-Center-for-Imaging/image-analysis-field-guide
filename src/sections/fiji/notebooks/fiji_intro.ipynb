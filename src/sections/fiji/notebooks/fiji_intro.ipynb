{
 "cells": [
  {
   "cell_type": "markdown",
   "id": "0",
   "metadata": {},
   "source": [
    "# Fiji (ImageJ): A Quick Dive\n",
    "\n",
    "**ImageJ** is an open-source software for image analysis. Since its creation 20 years ago, it has become indispensable to the research community. **Fiji**, which stands for _**F**iji **I**s **J**ust **I**mageJ_, is a distribution of ImageJ that comes bundled with a plethora of plugins and extra features. It also has a powerful script editor that helps a lot when developing macros or scripts, an updater to help manage all the additions, and even a ['Big Data Viewer'](https://imagej.net/plugins/bdv/) for visualizing huge images.\n",
    "\n",
    "Fiji's success is due not only to the features of the software itself, but to its openness and extensibility. Users can write (and share) custom macros, plugins or scripts to add new functionalities. Even if you ultimately use other software for your analysis, the ability to quickly check things in Fiji is extremely helpful.\n",
    "\n",
    "This tutorial will give you a brief introduction to Fiji, how to get it, and how to navigate the interface to open and display images.\n",
    "\n",
    "```{admonition} Acknowledgements\n",
    "This tutorial was adapted from [ImageJ: Images & pixels](https://bioimagebook.github.io/chapters/1-concepts/1-images_and_pixels/imagej.html). We kindly acknowledge them for sharing their training material with us!\n",
    "```"
   ]
  },
  {
   "cell_type": "markdown",
   "id": "1",
   "metadata": {},
   "source": [
    "## Installnig Fiji\n",
    "\n",
    "Download the software as a ZIP file from **https://fiji.sc/** and unzip it on your computer."
   ]
  },
  {
   "cell_type": "markdown",
   "id": "2",
   "metadata": {},
   "source": [
    "## The user interface\n",
    "\n",
    "Fiji's user interface is rather minimalistic. It's centered around a toolbar. Everything else (images, histograms, measurement tables, dialogs) appears within separate windows.\n",
    "\n",
    "Despite its simple appearance, ImageJ is powerful. The depth of the software is evident from its abundance of menus and submenus. Which leads to the **most important tip for using ImageJ**:\n",
    "\n",
    "```{tip}\n",
    "Don't memorize the menus -- search! Pressing {kbd}`L` brings up at **list** of all the commands from the menus, ready for each search. You might see the *Command Finder* or you can alternatively switch on a *search bar* by selecting it under {menuselection}`Edit --> Options --> Search Bar...`.\n",
    "```"
   ]
  },
  {
   "cell_type": "markdown",
   "id": "3",
   "metadata": {},
   "source": [
    "## Opening images\n",
    "\n",
    "The more elegant way to open an image is to simply **drag the image file onto ImageJ's toolbar**.\n",
    "\n",
    "As the cursor is then moved over the image, the value for the pixel under the cursor is displayed in ImageJ's status bar. The status bar also shows the x and y coordinates for the pixel under the cursor. However, to interpret these you need to know the *origin*, i.e. the location of the pixel at x=0, y=0. The origin of the image is at the top left, i.e. the top left pixel is identified with the coordinate x=0, y=0."
   ]
  },
  {
   "cell_type": "markdown",
   "id": "4",
   "metadata": {},
   "source": [
    "## Adjusting Brightness & Contrast\n",
    "\n",
    "The main command to change the brightness of an image is {menuselection}`Image --> Adjust --> Brightness/Contrast...`. Since you're likely to use it a lot, it is worth learning the shortcut: {kbd}`Shift+C`.\n",
    "\n",
    "The Brightness/Contrast dialog has four sliders: {guilabel}`Minimum`, {guilabel}`Maximum`, {guilabel}`Brightness` & {guilabel}`Contrast`. They are linked together: changing either of the first two also results in a change to the last two, and vice versa.\n",
    "\n",
    "Supposing you have a grayscale LUT, with colors ranging from black to white, you should see that\n",
    "* All pixels with a value less than or equal to the {guilabel}`Minimum` will be shown as black\n",
    "* All pixels with a value greater than or equal to the {guilabel}`Maximum` will be shown as white\n",
    "* All other pixels with a value in between will be shown using a shade of gray\n",
    "\n",
    "```{tip}\n",
    "Use the minimum & maximum sliders. Despite the name of the command implying {guilabel}`Brightness` and {guilabel}`Contrast` are the star perfomers, I would argue that the {guilabel}`Minimum` and {guilabel}`Maximum` sliders are far more intuitive.\n",
    "```\n",
    "\n",
    "Adjusting the sliders changes the LUT -- and *not* the pixel values. That is, unless you press {guilabel}`Apply`. If you do press {guilabel}`Apply` then the pixel values are changed. Recent versions of ImageJ give a warning when pressing {guilabel}`Apply`, but previous versions did not... which made it an extremely dangerous button for new users of the software. In most cases, when adjusting the brightness & contrast in ImageJ, don't press {guilabel}`Apply`!**"
   ]
  },
  {
   "cell_type": "markdown",
   "id": "5",
   "metadata": {},
   "source": [
    "## Switching LUTs\n",
    "\n",
    "You can change the colors of the LUT by selecting an alternative option from the menu: `Image --> Lookup tables -->`."
   ]
  }
 ],
 "metadata": {
  "jupytext": {
   "formats": "md:myst",
   "text_representation": {
    "extension": ".md",
    "format_name": "myst",
    "format_version": 0.13,
    "jupytext_version": "1.11.5"
   }
  },
  "kernelspec": {
   "display_name": "Python 3",
   "language": "python",
   "name": "python3"
  },
  "language_info": {
   "codemirror_mode": {
    "name": "ipython",
    "version": 3
   },
   "file_extension": ".py",
   "mimetype": "text/x-python",
   "name": "python",
   "nbconvert_exporter": "python",
   "pygments_lexer": "ipython3",
   "version": "3.10.14"
  },
  "source_map": [
   13,
   18,
   26,
   44,
   131,
   210,
   239,
   245,
   273,
   277,
   336
  ]
 },
 "nbformat": 4,
 "nbformat_minor": 5
}
