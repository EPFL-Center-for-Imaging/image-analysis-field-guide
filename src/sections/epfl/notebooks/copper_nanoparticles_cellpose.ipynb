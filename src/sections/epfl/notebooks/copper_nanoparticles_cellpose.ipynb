{
 "cells": [
  {
   "cell_type": "markdown",
   "metadata": {},
   "source": [
    "# Segmentation of copper nanoparticles in TEM images using CellPose\n",
    "\n",
    "In this notebook, we will analyze the growth of Cu nanoparticles in TEM timeseries.\n",
    "\n",
    "We will use\n",
    "\n",
    "- `Numpy` to denoise the timeseries\n",
    "- `CellPose` to segment the particles\n",
    "- `Scikit-image` to measure particle size\n",
    "- `Napari` to visualize the results\n",
    "\n",
    "```{admonition} Acknowledgements\n",
    "This notebook was adapted from a [project](https://gitlab.com/epfl-center-for-imaging/nanoparticles-segmentation) that was part of a collaboration between the EPFL Center for Imaging and the Laboratory for in situ Nanomaterials Characterization with Electrons.\n",
    "```"
   ]
  },
  {
   "cell_type": "code",
   "execution_count": null,
   "metadata": {},
   "outputs": [],
   "source": [
    "import numpy as np\n",
    "from magicgui import magicgui\n",
    "import napari\n",
    "from napari.layers import Image, Labels\n",
    "from napari.types import LayerDataTuple\n",
    "from skimage.measure import regionprops_table\n",
    "from skimage.io import imread\n",
    "from cellpose import models\n",
    "from cellpose.utils import stitch3D\n",
    "from magicgui.tqdm import trange"
   ]
  },
  {
   "cell_type": "markdown",
   "metadata": {},
   "source": [
    "## Load the timeseries image\n",
    "\n",
    "The image axes should be in `TYX` order."
   ]
  },
  {
   "cell_type": "code",
   "execution_count": null,
   "metadata": {},
   "outputs": [],
   "source": [
    "image = imread('./data/new_dataset_downscaled_fiji-2-cropped.tif')\n",
    "\n",
    "image.shape"
   ]
  },
  {
   "cell_type": "markdown",
   "metadata": {},
   "source": [
    "### Load the image into Napari\n",
    "\n",
    "Napari will help us process the image interactively and visualize the results of our analysis."
   ]
  },
  {
   "cell_type": "code",
   "execution_count": null,
   "metadata": {},
   "outputs": [],
   "source": [
    "viewer = napari.Viewer()\n",
    "\n",
    "viewer.add_image(image)"
   ]
  },
  {
   "cell_type": "markdown",
   "metadata": {},
   "source": [
    "## Temporal averaging for denoising\n",
    "\n",
    "To denoise the image, we run a temporal average over a given frame number. We implement this functionality in a `dock widget` for Napari using the `magicgui` library."
   ]
  },
  {
   "cell_type": "code",
   "execution_count": null,
   "metadata": {},
   "outputs": [],
   "source": [
    "@magicgui(\n",
    "    call_button='Run temporal average',\n",
    "    layout='vertical',\n",
    "    image_layer={'name': 'Image'},\n",
    "    Frames_number={\"widget_type\": \"SpinBox\", \"min\": 1},\n",
    ")\n",
    "def temporal_averaging(image_layer: Image, Frames_number: int=1) -> LayerDataTuple:\n",
    "    if image_layer is None:\n",
    "        return\n",
    "\n",
    "    image = image_layer.data\n",
    "\n",
    "    if Frames_number > len(image):\n",
    "        Frames_number = len(image)\n",
    "\n",
    "    filt = np.array([1] * Frames_number) / Frames_number\n",
    "    t, x, y = image.shape\n",
    "    im_rs = image.reshape((t, x*y))\n",
    "    tf = np.apply_along_axis(\n",
    "        lambda x: np.convolve(filt, x, mode='same'), \n",
    "        arr=im_rs, \n",
    "        axis=0\n",
    "    )\n",
    "    time_filtered = tf.reshape((t, x, y))\n",
    "\n",
    "    return (time_filtered, {'name': 'denoised'}, 'image')\n",
    "\n",
    "\n",
    "viewer.window.add_dock_widget(temporal_averaging, name='Denoising (temporal average)')"
   ]
  },
  {
   "cell_type": "markdown",
   "metadata": {},
   "source": [
    "## Segmentation of Copper particles using `CellPose`\n",
    "\n",
    "CellPose provides a generalist segmentation model capable of detecting and segmenting cell nuclei, but also many instances of circular objects in scientific images. In the cell below, we implement an interactive segmentation functionality in Napari based on CellPose. "
   ]
  },
  {
   "cell_type": "code",
   "execution_count": null,
   "metadata": {},
   "outputs": [],
   "source": [
    "@magicgui(call_button='Run detection', image_layer={'name': 'Image'})\n",
    "def cellpose_dock_widget(image_layer: Image, use_gpu: bool=True) -> LayerDataTuple:\n",
    "    if image_layer is None:\n",
    "        return\n",
    "    \n",
    "    image = image_layer.data\n",
    "\n",
    "    model = models.Cellpose(gpu=use_gpu, model_type='cyto')\n",
    "\n",
    "    cellpose_labels = np.empty(image.shape)\n",
    "    for z_level in trange(len(image)):\n",
    "        frame = image[z_level]\n",
    "        cellpose_mask, *_ = model.eval(frame, diameter=None, flow_threshold=None)\n",
    "        cellpose_labels[z_level] = cellpose_mask\n",
    "    cellpose_labels = cellpose_labels.astype('int')\n",
    "    cellpose_labels = stitch3D(cellpose_labels, stitch_threshold=0.5)\n",
    "\n",
    "    return (cellpose_labels, {'name': 'cellpose', 'opacity': 0.4}, 'labels')\n",
    "\n",
    "viewer.window.add_dock_widget(cellpose_dock_widget, name='Cellpose (all frames)')"
   ]
  },
  {
   "cell_type": "markdown",
   "metadata": {},
   "source": [
    "## Computing and plotting particle size\n",
    "\n",
    "We use Scikit-image's `regionprops` function to compute the particle size and display it overlayed on the segmentation using a Napari `Points` layer."
   ]
  },
  {
   "cell_type": "code",
   "execution_count": null,
   "metadata": {},
   "outputs": [],
   "source": [
    "@magicgui(call_button='Measure particle size', layout='vertical', labels_layer={'name': 'Detections'})\n",
    "def region_properties_widget(labels_layer: Labels) -> LayerDataTuple:\n",
    "    if labels_layer is None:\n",
    "        return\n",
    "    \n",
    "    labels = labels_layer.data\n",
    "\n",
    "    points = []\n",
    "    areas = []\n",
    "    times = []\n",
    "    labels_idx = []\n",
    "    for k, label_frame in enumerate(labels):\n",
    "        props = regionprops_table(label_frame, properties=['label', 'centroid', 'area'])\n",
    "        for cx, cy, area, lab in zip(props['centroid-0'], props['centroid-1'], props['area'], props['label']):\n",
    "            points.append([k, cx, cy])\n",
    "            areas.append(area)\n",
    "            times.append(k)\n",
    "            labels_idx.append(lab)\n",
    "\n",
    "    points_props = {\n",
    "        'name': 'area (px)', \n",
    "        'face_color': 'blue', \n",
    "        'edge_width': 0, \n",
    "        'size': 0,\n",
    "        'features': {'area': areas, 'time': times, 'label': labels_idx}, \n",
    "        'text': {\n",
    "            'string': '{label:0.0f}',\n",
    "            'size': 9,\n",
    "            'color': 'white'\n",
    "        }\n",
    "    }\n",
    "\n",
    "    return (points, points_props, 'points')\n",
    "\n",
    "viewer.window.add_dock_widget(region_properties_widget, name='Measure')"
   ]
  }
 ],
 "metadata": {
  "kernelspec": {
   "display_name": "Python 3.10.6 ('saltanat')",
   "language": "python",
   "name": "python3"
  },
  "language_info": {
   "codemirror_mode": {
    "name": "ipython",
    "version": 3
   },
   "file_extension": ".py",
   "mimetype": "text/x-python",
   "name": "python",
   "nbconvert_exporter": "python",
   "pygments_lexer": "ipython3",
   "version": "3.9.18"
  },
  "vscode": {
   "interpreter": {
    "hash": "9f98e0a93e5784ab3aa86dc64fbb6ffc6b1447ae09825cc6ebb9a4f7d4922b07"
   }
  }
 },
 "nbformat": 4,
 "nbformat_minor": 2
}
