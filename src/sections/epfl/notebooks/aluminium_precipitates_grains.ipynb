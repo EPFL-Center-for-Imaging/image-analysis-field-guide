{
 "cells": [
  {
   "cell_type": "markdown",
   "metadata": {},
   "source": [
    "# Analysis of intermetallic precipitates in Al matrix\n",
    "\n",
    "In this notebook, we will focus on a small region of the field of view for a closer analysis of the precipitates and grain boundaries.\n",
    "\n",
    "Make sure to have run the [keypoint-registration](./keypoint-registration.ipynb) notebook first and have saved the warped EBSD and misorientation arrays!\n",
    "\n",
    "```{admonition} Acknowledgements\n",
    "This notebook was adapted from a [project](https://gitlab.com/epfl-center-for-imaging/ebsd-precipitates) that was part of a collaboration between the EPFL Center for Imaging and the Thermomechanical Metallurgy Laboratory.\n",
    "```"
   ]
  },
  {
   "cell_type": "code",
   "execution_count": null,
   "metadata": {},
   "outputs": [],
   "source": [
    "from pathlib import Path\n",
    "import napari\n",
    "import tifffile\n",
    "import numpy as np\n",
    "import pandas as pd\n",
    "from scipy.ndimage import label, distance_transform_edt\n",
    "from skimage.measure import regionprops, regionprops_table\n",
    "from skimage.morphology import remove_small_objects, skeletonize\n",
    "from skimage.filters import gaussian\n",
    "from skimage.feature import peak_local_max\n",
    "from skimage.segmentation import watershed, find_boundaries\n",
    "from skimage.exposure import rescale_intensity\n",
    "\n",
    "# Imports from this project's packages:\n",
    "import sys; sys.path.append('..')\n",
    "\n",
    "from gefolki.python.algorithm import EFolki\n",
    "from gefolki.python.tools import wrapData"
   ]
  },
  {
   "cell_type": "markdown",
   "metadata": {},
   "source": [
    "We keep all our data in this folder."
   ]
  },
  {
   "cell_type": "code",
   "execution_count": null,
   "metadata": {},
   "outputs": [],
   "source": [
    "data_folder = Path('..') / 'data'"
   ]
  },
  {
   "cell_type": "markdown",
   "metadata": {},
   "source": [
    "Load the data."
   ]
  },
  {
   "cell_type": "code",
   "execution_count": null,
   "metadata": {},
   "outputs": [],
   "source": [
    "sem = tifffile.imread(data_folder / 'sem.tif')\n",
    "\n",
    "# Outputs from the previous notebook (keypoint-registration.ipynb)\n",
    "warped_ebsd_rgb = tifffile.imread(data_folder / 'warped_ebsd_rgb.tif')\n",
    "warped_misorientation = tifffile.imread(data_folder / 'warped_misorientation.tif')\n",
    "\n",
    "# This is the output of the Ilastik model we used to segment the precipitates.\n",
    "ilastik_precipitates_segmentation = np.load(data_folder / 'simple_segmentation.npy')"
   ]
  },
  {
   "cell_type": "markdown",
   "metadata": {},
   "source": [
    "For simplicity and speed, we select a region of interest in the field of view by cropping all the arrays."
   ]
  },
  {
   "cell_type": "code",
   "execution_count": null,
   "metadata": {},
   "outputs": [],
   "source": [
    "start_x = 4000\n",
    "end_x = 6000\n",
    "start_y = 4000\n",
    "end_y = 6000\n",
    "\n",
    "sem = sem[start_x:end_x, start_y:end_y]\n",
    "warped_ebsd_rgb = warped_ebsd_rgb[start_x:end_x, start_y:end_y]\n",
    "warped_misorientation = warped_misorientation[start_x:end_x, start_y:end_y]\n",
    "ilastik_precipitates_segmentation = ilastik_precipitates_segmentation[start_x:end_x, start_y:end_y]"
   ]
  },
  {
   "cell_type": "markdown",
   "metadata": {},
   "source": [
    "We identify grain boundaries based on a pre-defined angle threshold (e.g. 15 deg.)."
   ]
  },
  {
   "cell_type": "code",
   "execution_count": null,
   "metadata": {},
   "outputs": [],
   "source": [
    "grain_boundary_angle_threshold_deg = 15.0\n",
    "grain_boundaries = warped_misorientation >= grain_boundary_angle_threshold_deg"
   ]
  },
  {
   "cell_type": "markdown",
   "metadata": {},
   "source": [
    "Visualize the arrays in Napari."
   ]
  },
  {
   "cell_type": "code",
   "execution_count": null,
   "metadata": {},
   "outputs": [],
   "source": [
    "viewer = napari.Viewer()\n",
    "viewer.add_image(sem, name='Backscatter SEM')\n",
    "viewer.add_image(warped_misorientation, colormap='inferno', opacity=0.7, name='Misorientation (deg.)')\n",
    "viewer.add_labels(grain_boundaries)"
   ]
  },
  {
   "cell_type": "markdown",
   "metadata": {},
   "source": [
    "Next, we aim at producing a grain segmentation from our grain boundary array. For this, we use a watershed transform. The watershed algorithm also requires that we find peaks in the distance map of the grain boundaries to be used as markers. Ideally, there should be one marker per grain.\n",
    "\n",
    "We use the boundaries of the watershed segmentation as our new reference for the grain boundary map - which is a closed network of grain boundaries."
   ]
  },
  {
   "cell_type": "code",
   "execution_count": null,
   "metadata": {},
   "outputs": [],
   "source": [
    "# Compute the distance transform\n",
    "distance_img = distance_transform_edt(grain_boundaries == 0)\n",
    "\n",
    "# Find peaks\n",
    "peaks_data = peak_local_max(\n",
    "    -distance_img, \n",
    "    min_distance=80,\n",
    "    threshold_abs=None,\n",
    "    threshold_rel=None, \n",
    "    exclude_border=False\n",
    ")\n",
    "\n",
    "# Extract markers\n",
    "markers = np.zeros_like(distance_img)\n",
    "markers[tuple(peaks_data.T)] = 1\n",
    "markers, _ = label(markers)\n",
    "\n",
    "# Watershed segmentation\n",
    "watershed_grain_segmentation = watershed(-distance_img, markers)\n",
    "\n",
    "watershed_grain_boundaries = find_boundaries(watershed_grain_segmentation, connectivity=1, mode='thick')\n",
    "\n",
    "# We keep only the biggest connected object to remove unwanted artifacts inside the grains.\n",
    "labels = label(watershed_grain_boundaries)[0]  # label from scipy\n",
    "counts = np.unique(labels, return_counts=1)\n",
    "biggestLabel = np.argmax(counts[1][1:]) + 1\n",
    "watershed_grain_boundaries = (labels == biggestLabel).astype(int)"
   ]
  },
  {
   "cell_type": "markdown",
   "metadata": {},
   "source": [
    "Look at the results."
   ]
  },
  {
   "cell_type": "code",
   "execution_count": null,
   "metadata": {},
   "outputs": [],
   "source": [
    "# Display the distance map (for info)\n",
    "viewer.add_image(distance_img, colormap='viridis', name=\"Distance map\")\n",
    "\n",
    "# Display the segmentation in a `Labels` layer\n",
    "viewer.add_labels(watershed_grain_segmentation, name='Watershed grain segmentation')\n",
    "\n",
    "# Display the new grain boundary map\n",
    "viewer.add_labels(watershed_grain_boundaries, name=\"Watershed grain boundaries\")"
   ]
  },
  {
   "cell_type": "markdown",
   "metadata": {},
   "source": [
    "## Fine-tuning the EBSD-SEM registration\n",
    "\n"
   ]
  },
  {
   "cell_type": "code",
   "execution_count": null,
   "metadata": {},
   "outputs": [],
   "source": [
    "ebsd_mean_normalized = rescale_intensity(np.mean(warped_ebsd_rgb, axis=2), out_range=(0, 1))\n",
    "sem_normalized = rescale_intensity(sem, out_range=(0, 1))\n",
    "\n",
    "u, v = EFolki(\n",
    "    sem_normalized, \n",
    "    ebsd_mean_normalized, \n",
    "    iteration=2, \n",
    "    radius=[32, 24, 16, 8], \n",
    "    rank=4, \n",
    "    levels=5\n",
    ")\n",
    "\n",
    "N = np.sqrt(u**2+v**2)"
   ]
  },
  {
   "cell_type": "markdown",
   "metadata": {},
   "source": [
    "Next, we correct our grain boundary map by applying the fine-tuned registration transform to it. We then recompute the distance transform to be able to tell how far the precipitates are from the grain boundaries."
   ]
  },
  {
   "cell_type": "code",
   "execution_count": null,
   "metadata": {},
   "outputs": [],
   "source": [
    "blurred_grain_boundaries = gaussian(watershed_grain_boundaries, sigma=5)\n",
    "blurred_grain_boundaries = rescale_intensity(blurred_grain_boundaries, out_range=(0, 1))\n",
    "\n",
    "warped_blurred_grain_boundaries = wrapData(blurred_grain_boundaries, u, v)\n",
    "warped_blurred_grain_boundaries = rescale_intensity(warped_blurred_grain_boundaries, out_range=(0, 1))\n",
    "\n",
    "warped_blurred_grain_boundaries_skeleton = skeletonize(warped_blurred_grain_boundaries > 0.1)\n",
    "distance_img_corrected = distance_transform_edt(warped_blurred_grain_boundaries_skeleton == 0)"
   ]
  },
  {
   "cell_type": "markdown",
   "metadata": {},
   "source": [
    "Look at the results."
   ]
  },
  {
   "cell_type": "code",
   "execution_count": null,
   "metadata": {},
   "outputs": [],
   "source": [
    "viewer.add_image(warped_blurred_grain_boundaries, colormap='red', blending='additive', opacity=0.5, name=\"Warped grain boundaries\")\n",
    "viewer.add_labels(warped_blurred_grain_boundaries_skeleton, name=\"Boundaries skeleton\")\n",
    "viewer.add_image(distance_img_corrected, name=\"Distance map (corrected)\", blending=\"additive\", opacity=0.5, colormap='viridis')"
   ]
  },
  {
   "cell_type": "markdown",
   "metadata": {},
   "source": [
    "## Precipitates\n",
    "\n",
    "Next, we prepare our precipitates array. We remove precipitates below or above pre-determined sizes. We distinguish individual precipitates by applying connected components labeling to the array."
   ]
  },
  {
   "cell_type": "code",
   "execution_count": null,
   "metadata": {},
   "outputs": [],
   "source": [
    "# 1 is the precipitates, 0 the matrix, 2 the intermetallics..\n",
    "labeled_precipitates, _ = label(np.squeeze((ilastik_precipitates_segmentation == 1).astype(np.uint8)))\n",
    "\n",
    "# Remove small objects\n",
    "min_size = 500\n",
    "\n",
    "labeled_precipitates = remove_small_objects(labeled_precipitates, min_size=min_size)\n",
    "labeled_precipitates = label(labeled_precipitates)[0]\n",
    "\n",
    "print(f'Precipitates with size above {min_size}: {len(np.unique(labeled_precipitates))}')\n",
    "\n",
    "# Remove large objects\n",
    "max_size = 2000\n",
    "\n",
    "props = regionprops(labeled_precipitates)\n",
    "large_objects = [p.label for p in props if p.area > max_size]\n",
    "labeled_precipitates[np.isin(labeled_precipitates, large_objects)] = 0"
   ]
  },
  {
   "cell_type": "markdown",
   "metadata": {},
   "source": [
    "Look at the results."
   ]
  },
  {
   "cell_type": "code",
   "execution_count": null,
   "metadata": {},
   "outputs": [],
   "source": [
    "viewer.add_labels(labeled_precipitates, name=\"Precipitates segmentation\")"
   ]
  },
  {
   "cell_type": "markdown",
   "metadata": {},
   "source": [
    "Then, we extract the centroid (location) of each precipitate and keep this information in a Pandas dataframe. We also recall the distance between each centroid and the closest grain boundary by looking up the distance map."
   ]
  },
  {
   "cell_type": "code",
   "execution_count": null,
   "metadata": {},
   "outputs": [],
   "source": [
    "df = pd.DataFrame(data=regionprops_table(labeled_precipitates, properties=['centroid', 'label']))\n",
    "df['centroid-0'] = df['centroid-0'].astype(int)\n",
    "df['centroid-1'] = df['centroid-1'].astype(int)\n",
    "\n",
    "centroids = []\n",
    "distances = []\n",
    "for k, row in df[['centroid-0', 'centroid-1']].iterrows():\n",
    "    x = row['centroid-0']\n",
    "    y = row['centroid-1']\n",
    "    d = distance_img_corrected[x, y]\n",
    "    distances.append(d)\n",
    "    centroids.append([x, y])"
   ]
  },
  {
   "cell_type": "markdown",
   "metadata": {},
   "source": [
    "We determine a minimum distance in pixels from the closest boundary, from which the precipitates are considered to be in the bulk of the grain."
   ]
  },
  {
   "cell_type": "code",
   "execution_count": null,
   "metadata": {},
   "outputs": [],
   "source": [
    "pixel_threshold = 20 # distance from the grain boundaries, in pixels, to consider\n",
    "\n",
    "# Grain centroids falling in this mask will be considered \"on grain\"\n",
    "on_grain_mask = (distance_img_corrected < pixel_threshold).astype(int)\n",
    "\n",
    "dists = []\n",
    "on_grains = []\n",
    "composite_image = np.zeros_like(distance_img_corrected)\n",
    "for _, (x, y, lab) in df[['centroid-0', 'centroid-1', 'label']].iterrows():\n",
    "    filt = labeled_precipitates == lab\n",
    "    dist = distance_img_corrected[x, y]\n",
    "    on_grain = dist <= pixel_threshold\n",
    "    dists.append(dist)\n",
    "    on_grains.append(on_grain)\n",
    "    composite_image[filt] = dist"
   ]
  },
  {
   "cell_type": "markdown",
   "metadata": {},
   "source": [
    "We generate one final visualization with textual information in a Points layer."
   ]
  },
  {
   "cell_type": "code",
   "execution_count": null,
   "metadata": {},
   "outputs": [],
   "source": [
    "l = viewer.add_labels(on_grain_mask, name=\"On grain mask\")\n",
    "l.contour = 3\n",
    "\n",
    "viewer.add_image(composite_image, contrast_limits=(0, 100), colormap='inferno', opacity=0.5)\n",
    "\n",
    "# Add that distance in text\n",
    "points_props = {\n",
    "    'name': 'distance (px)', \n",
    "    'face_color': 'orange', \n",
    "    'edge_width': 0, \n",
    "    'size': 20,\n",
    "    'features': {'distance': dists, 'on_grains': on_grains}, \n",
    "    'text': {\n",
    "        'string': 'Distance: {distance:0.0f} px\\nOn grain: {on_grains}',\n",
    "        'size': 9,\n",
    "        'color': 'white'\n",
    "    }\n",
    "}\n",
    "\n",
    "viewer.add_points(centroids, **points_props)"
   ]
  },
  {
   "cell_type": "code",
   "execution_count": null,
   "metadata": {},
   "outputs": [],
   "source": []
  }
 ],
 "metadata": {
  "kernelspec": {
   "display_name": "seyyed",
   "language": "python",
   "name": "python3"
  },
  "language_info": {
   "codemirror_mode": {
    "name": "ipython",
    "version": 3
   },
   "file_extension": ".py",
   "mimetype": "text/x-python",
   "name": "python",
   "nbconvert_exporter": "python",
   "pygments_lexer": "ipython3",
   "version": "3.9.18"
  }
 },
 "nbformat": 4,
 "nbformat_minor": 2
}
