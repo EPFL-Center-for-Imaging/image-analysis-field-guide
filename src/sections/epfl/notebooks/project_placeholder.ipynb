{
 "cells": [
  {
   "cell_type": "markdown",
   "metadata": {},
   "source": [
    "# Project placeholder\n",
    "\n",
    "```{admonition} Acknowledgements\n",
    "We kindly acknowledge *[a laboratory](https://www.epfl.ch/labs)* for providing the data for this notebook.\n",
    "```"
   ]
  }
 ],
 "metadata": {
  "kernelspec": {
   "display_name": "Python 3 (ipykernel)",
   "language": "python",
   "name": "python3"
  },
  "language_info": {
   "codemirror_mode": {
    "name": "ipython",
    "version": 3
   },
   "file_extension": ".py",
   "mimetype": "text/x-python",
   "name": "python",
   "nbconvert_exporter": "python",
   "pygments_lexer": "ipython3",
   "version": "3.9.19"
  }
 },
 "nbformat": 4,
 "nbformat_minor": 4
}
