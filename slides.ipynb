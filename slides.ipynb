{
 "cells": [
  {
   "cell_type": "markdown",
   "metadata": {
    "editable": true,
    "slideshow": {
     "slide_type": "slide"
    },
    "tags": []
   },
   "source": [
    "![screenshot](./src/images/epfl.jpeg)\n",
    "# The Image Analysis Field Guide\n",
    "\n",
    "Essential toolkit to get started in scientific image analysis.\n",
    "\n",
    "The website is live at https://imaging.epfl.ch/field-guide/"
   ]
  },
  {
   "cell_type": "markdown",
   "metadata": {
    "editable": true,
    "slideshow": {
     "slide_type": "slide"
    },
    "tags": []
   },
   "source": [
    "## The `jupyter book` website\n",
    "\n",
    "![field-guide_anatomy.png](./assets/field-guide_anatomy.png)"
   ]
  },
  {
   "cell_type": "markdown",
   "metadata": {
    "editable": true,
    "slideshow": {
     "slide_type": "slide"
    },
    "tags": []
   },
   "source": [
    "## Execute and edit content in a `JupyterHub`\n",
    "\n",
    "![jupyterhub](./assets/jupyterhub.png)"
   ]
  },
  {
   "cell_type": "markdown",
   "metadata": {
    "editable": true,
    "slideshow": {
     "slide_type": "slide"
    },
    "tags": []
   },
   "source": [
    "## What's the goal?\n",
    "- Browse the site and follow interests\n",
    "- Discover *what exists* (Image.sc, Napari...)\n",
    "- Read, try out, and copy code from tutorials"
   ]
  },
  {
   "cell_type": "markdown",
   "metadata": {
    "editable": true,
    "slideshow": {
     "slide_type": "slide"
    },
    "tags": []
   },
   "source": [
    "## Where to go next?\n",
    "\n",
    "- Improve the tutorials\n",
    "- Make the site collaborative\n",
    "- Replace Notion"
   ]
  },
  {
   "cell_type": "markdown",
   "metadata": {
    "editable": true,
    "slideshow": {
     "slide_type": "slide"
    },
    "tags": []
   },
   "source": [
    "## Be a `topic curator` 👩‍🎨 👨‍🔬\n",
    "\n",
    "Maintain your **topic page**, update **resources**, create **tutorials**.\n",
    "\n",
    "![icons](./assets/icons.png)\n",
    "\n",
    "Get in touch: mallory.wittwer@epfl.ch\n"
   ]
  },
  {
   "cell_type": "code",
   "execution_count": null,
   "metadata": {
    "editable": true,
    "slideshow": {
     "slide_type": ""
    },
    "tags": []
   },
   "outputs": [],
   "source": []
  }
 ],
 "metadata": {
  "kernelspec": {
   "display_name": "Python 3 (ipykernel)",
   "language": "python",
   "name": "python3"
  },
  "language_info": {
   "codemirror_mode": {
    "name": "ipython",
    "version": 3
   },
   "file_extension": ".py",
   "mimetype": "text/x-python",
   "name": "python",
   "nbconvert_exporter": "python",
   "pygments_lexer": "ipython3",
   "version": "3.9.19"
  }
 },
 "nbformat": 4,
 "nbformat_minor": 4
}
